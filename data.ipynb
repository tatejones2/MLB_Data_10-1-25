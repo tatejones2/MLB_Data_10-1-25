{
 "cells": [
  {
   "cell_type": "code",
   "execution_count": null,
   "id": "c38c8c8e",
   "metadata": {},
   "outputs": [
    {
     "name": "stdout",
     "output_type": "stream",
     "text": [
      "hello world\n"
     ]
    }
   ],
   "source": [
    "# import libraries\n",
    "import pandas as pd\n",
    "import requests\n",
    "import matplotlib as plt\n",
    "from io import StringIO\n",
    "\n",
    "# define the URL of the CSV file\n",
    "url = \"\"\n",
    "\n",
    "# read the CSV file from the URL\n",
    "response = requests.get(url)\n",
    "if response.status_code == 200:\n",
    "    df = pd.read_csv(StringIO(response.text))\n",
    "else:\n",
    "    print(f\"Error: {response.status_code} - Unable to fetch data\")\n",
    "\n",
    "# display first 5 rows\n",
    "df.head()"
   ]
  }
 ],
 "metadata": {
  "kernelspec": {
   "display_name": "Python 3",
   "language": "python",
   "name": "python3"
  },
  "language_info": {
   "codemirror_mode": {
    "name": "ipython",
    "version": 3
   },
   "file_extension": ".py",
   "mimetype": "text/x-python",
   "name": "python",
   "nbconvert_exporter": "python",
   "pygments_lexer": "ipython3",
   "version": "3.12.6"
  }
 },
 "nbformat": 4,
 "nbformat_minor": 5
}
